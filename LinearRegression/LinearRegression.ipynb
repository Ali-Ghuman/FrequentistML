{
 "cells": [
  {
   "cell_type": "code",
   "execution_count": 1836,
   "metadata": {},
   "outputs": [],
   "source": [
    "from sklearn import linear_model as lm\n",
    "from sklearn.model_selection import train_test_split\n",
    "import sklearn.preprocessing as prep\n",
    "import matplotlib.pyplot as plt\n",
    "import numpy as np\n",
    "import pandas as pd\n",
    "from tabulate import tabulate"
   ]
  },
  {
   "cell_type": "code",
   "execution_count": 1837,
   "metadata": {},
   "outputs": [
    {
     "data": {
      "text/html": [
       "<div>\n",
       "<style scoped>\n",
       "    .dataframe tbody tr th:only-of-type {\n",
       "        vertical-align: middle;\n",
       "    }\n",
       "\n",
       "    .dataframe tbody tr th {\n",
       "        vertical-align: top;\n",
       "    }\n",
       "\n",
       "    .dataframe thead th {\n",
       "        text-align: right;\n",
       "    }\n",
       "</style>\n",
       "<table border=\"1\" class=\"dataframe\">\n",
       "  <thead>\n",
       "    <tr style=\"text-align: right;\">\n",
       "      <th></th>\n",
       "      <th>lcavol</th>\n",
       "      <th>lweight</th>\n",
       "      <th>age</th>\n",
       "      <th>lbph</th>\n",
       "      <th>svi</th>\n",
       "      <th>lcp</th>\n",
       "      <th>gleason</th>\n",
       "      <th>pgg45</th>\n",
       "      <th>lpsa</th>\n",
       "    </tr>\n",
       "  </thead>\n",
       "  <tbody>\n",
       "    <tr>\n",
       "      <th>1</th>\n",
       "      <td>-0.579818</td>\n",
       "      <td>2.769459</td>\n",
       "      <td>50</td>\n",
       "      <td>-1.386294</td>\n",
       "      <td>0</td>\n",
       "      <td>-1.386294</td>\n",
       "      <td>6</td>\n",
       "      <td>0</td>\n",
       "      <td>-0.430783</td>\n",
       "    </tr>\n",
       "    <tr>\n",
       "      <th>2</th>\n",
       "      <td>-0.994252</td>\n",
       "      <td>3.319626</td>\n",
       "      <td>58</td>\n",
       "      <td>-1.386294</td>\n",
       "      <td>0</td>\n",
       "      <td>-1.386294</td>\n",
       "      <td>6</td>\n",
       "      <td>0</td>\n",
       "      <td>-0.162519</td>\n",
       "    </tr>\n",
       "    <tr>\n",
       "      <th>3</th>\n",
       "      <td>-0.510826</td>\n",
       "      <td>2.691243</td>\n",
       "      <td>74</td>\n",
       "      <td>-1.386294</td>\n",
       "      <td>0</td>\n",
       "      <td>-1.386294</td>\n",
       "      <td>7</td>\n",
       "      <td>20</td>\n",
       "      <td>-0.162519</td>\n",
       "    </tr>\n",
       "    <tr>\n",
       "      <th>4</th>\n",
       "      <td>-1.203973</td>\n",
       "      <td>3.282789</td>\n",
       "      <td>58</td>\n",
       "      <td>-1.386294</td>\n",
       "      <td>0</td>\n",
       "      <td>-1.386294</td>\n",
       "      <td>6</td>\n",
       "      <td>0</td>\n",
       "      <td>-0.162519</td>\n",
       "    </tr>\n",
       "    <tr>\n",
       "      <th>5</th>\n",
       "      <td>0.751416</td>\n",
       "      <td>3.432373</td>\n",
       "      <td>62</td>\n",
       "      <td>-1.386294</td>\n",
       "      <td>0</td>\n",
       "      <td>-1.386294</td>\n",
       "      <td>6</td>\n",
       "      <td>0</td>\n",
       "      <td>0.371564</td>\n",
       "    </tr>\n",
       "  </tbody>\n",
       "</table>\n",
       "</div>"
      ],
      "text/plain": [
       "     lcavol   lweight  age      lbph  svi       lcp  gleason  pgg45      lpsa\n",
       "1 -0.579818  2.769459   50 -1.386294    0 -1.386294        6      0 -0.430783\n",
       "2 -0.994252  3.319626   58 -1.386294    0 -1.386294        6      0 -0.162519\n",
       "3 -0.510826  2.691243   74 -1.386294    0 -1.386294        7     20 -0.162519\n",
       "4 -1.203973  3.282789   58 -1.386294    0 -1.386294        6      0 -0.162519\n",
       "5  0.751416  3.432373   62 -1.386294    0 -1.386294        6      0  0.371564"
      ]
     },
     "execution_count": 1837,
     "metadata": {},
     "output_type": "execute_result"
    }
   ],
   "source": [
    "df_prostate = pd.read_csv('prostate.data',\n",
    "                 delimiter='\\t',\n",
    "                 index_col = 0)\n",
    "df_prostate = df_prostate.iloc[:,:-1]\n",
    "prostate_data = df_prostate.to_numpy().astype('float')\n",
    "df_prostate.head()\n"
   ]
  },
  {
   "cell_type": "code",
   "execution_count": 1838,
   "metadata": {},
   "outputs": [],
   "source": [
    "def train_val_test_split(x, y, test_percent, val_percent, random_state = None):\n",
    "    rel_val_percent = np.round((val_percent)/(1-test_percent), 2)\n",
    "\n",
    "    x_inter, x_test, y_inter, y_test = train_test_split(x, y, test_size = test_percent, random_state = random_state)\n",
    "    x_train, x_val, y_train, y_val = train_test_split(x_inter, y_inter, test_size = rel_val_percent, random_state = random_state)\n",
    "    \n",
    "    return x_train, x_val, x_test, y_train, y_val, y_test"
   ]
  },
  {
   "cell_type": "code",
   "execution_count": 1839,
   "metadata": {},
   "outputs": [
    {
     "name": "stdout",
     "output_type": "stream",
     "text": [
      "Input length: 97\n",
      "Number of training samples: 77\n",
      "Number of validation samples: 10\n",
      "Number of testing samples: 10\n"
     ]
    },
    {
     "name": "stderr",
     "output_type": "stream",
     "text": [
      "/tmp/ipykernel_1269/3310943873.py:1: DeprecationWarning: This function is deprecated. Please call randint(1, 31475 + 1) instead\n",
      "  split_data = train_val_test_split(prostate_data[:,:-1], prostate_data[:,-1], 0.1, 0.1, np.random.random_integers(31475))\n"
     ]
    }
   ],
   "source": [
    "split_data = train_val_test_split(prostate_data[:,:-1], prostate_data[:,-1], 0.1, 0.1, np.random.random_integers(31475))\n",
    "#unpacking\n",
    "x_train, x_val, x_test, y_train, y_val, y_test = split_data\n",
    "\n",
    "print('Input length:', len(prostate_data))\n",
    "print('Number of training samples:', len(x_train))\n",
    "print('Number of validation samples:', len(x_val))\n",
    "print('Number of testing samples:', len(x_test))"
   ]
  },
  {
   "cell_type": "code",
   "execution_count": 1840,
   "metadata": {},
   "outputs": [],
   "source": [
    "x_train = (x_train - x_train.mean(axis=0)) / x_train.std(axis=0)\n",
    "x_val = (x_val - x_val.mean(axis=0)) / x_val.std(axis=0)\n",
    "x_test = (x_test - x_test.mean(axis=0)) / x_test.std(axis=0)"
   ]
  },
  {
   "cell_type": "code",
   "execution_count": 1841,
   "metadata": {},
   "outputs": [],
   "source": [
    "class LinearModel:\n",
    "    def __init__(self):\n",
    "        self.beta = None\n",
    "\n",
    "    def fit(self, x,y):\n",
    "        X = np.concatenate((np.ones((x.shape[0], 1)), x), axis = 1)\n",
    "        self.beta = np.linalg.solve((X.T @ X),X.T @ y)\n",
    "        return self.beta\n",
    "\n",
    "    def predict(self,x, with_intercept = True):\n",
    "        if with_intercept:\n",
    "            X = np.concatenate((np.ones((x.shape[0], 1)),x), axis = 1)\n",
    "            y_hat = X @ self.beta\n",
    "        else:\n",
    "            y_hat = x @ self.beta[1:]\n",
    "        return y_hat\n",
    "\n",
    "def mean_square_error(y, y_hat):\n",
    "    return np.mean(np.square(np.array(y-y_hat)))"
   ]
  },
  {
   "cell_type": "code",
   "execution_count": 1842,
   "metadata": {},
   "outputs": [
    {
     "name": "stdout",
     "output_type": "stream",
     "text": [
      "Test MSE: 0.32421657723522296\n"
     ]
    },
    {
     "data": {
      "text/plain": [
       "array([ 2.3487587 ,  0.69667922,  0.33136687, -0.16748868,  0.13416529,\n",
       "        0.23096276, -0.13569651, -0.00646733,  0.14117769])"
      ]
     },
     "execution_count": 1842,
     "metadata": {},
     "output_type": "execute_result"
    }
   ],
   "source": [
    "linearModel = LinearModel()\n",
    "beta = linearModel.fit(x_train, y_train)\n",
    "\n",
    "#MSEs\n",
    "test_error = mean_square_error(y_test, linearModel.predict(x_test))\n",
    "train_error = mean_square_error(y_train, linearModel.predict(x_train))\n",
    "print(\"Test MSE:\", test_error)\n",
    "beta"
   ]
  },
  {
   "cell_type": "code",
   "execution_count": 1843,
   "metadata": {},
   "outputs": [],
   "source": [
    "def format_corr_table(corr_mat, coeff_names):\n",
    "  '''Function to format the data into a correlation table'''\n",
    "\n",
    "  corr_table = []\n",
    "  for row_num in range(corr_mat.shape[0]):\n",
    "    vals = list(corr_mat[row_num, :])\n",
    "    vals = [str(round(val,3)) for val in vals]\n",
    "    vals.insert(0,coeff_names[row_num])\n",
    "    vals = vals [:row_num+1]\n",
    "    corr_table.append(vals)\n",
    "\n",
    "  return corr_table"
   ]
  },
  {
   "cell_type": "code",
   "execution_count": 1844,
   "metadata": {},
   "outputs": [
    {
     "name": "stdout",
     "output_type": "stream",
     "text": [
      "     Table 1: Correlations of predictors in the prostate cancer data.\n",
      "+--------------+--------+---------+-------+-------+-------+-------+---------+\n",
      "| Coefficients | lcavol | lweight |  age  | lbph  |  svi  |  lcp  | gleason |\n",
      "+--------------+--------+---------+-------+-------+-------+-------+---------+\n",
      "|   lweight    | 0.353  |         |       |       |       |       |         |\n",
      "|     age      | 0.274  |  0.347  |       |       |       |       |         |\n",
      "|     lbph     | 0.138  |  0.377  | 0.35  |       |       |       |         |\n",
      "|     svi      | 0.489  |  0.259  | 0.128 | -0.01 |       |       |         |\n",
      "|     lcp      | 0.689  |  0.226  |  0.1  | 0.083 | 0.677 |       |         |\n",
      "|   gleason    | 0.514  |  0.103  | 0.299 | 0.132 | 0.395 | 0.622 |         |\n",
      "|    pgg45     | 0.507  |  0.173  | 0.28  | 0.094 | 0.508 | 0.699 |  0.81   |\n",
      "+--------------+--------+---------+-------+-------+-------+-------+---------+\n"
     ]
    }
   ],
   "source": [
    "#Calculate the correlation coefficients\n",
    "corr_mat = np.corrcoef(x_train.T)\n",
    "\n",
    "#formatting the correlation table \n",
    "coeff_names = list(df_prostate.columns.values[:-1])\n",
    "corr_table = format_corr_table(corr_mat, coeff_names)\n",
    "\n",
    "#Fixing title\n",
    "coeff_names.insert(0,'Coefficients')\n",
    "\n",
    "#generate and print correlation table\n",
    "corr = tabulate(corr_table[1:], headers=coeff_names, tablefmt='pretty')\n",
    "print('     Table 1: Correlations of predictors in the prostate cancer data.')\n",
    "print(corr)"
   ]
  },
  {
   "cell_type": "code",
   "execution_count": 1845,
   "metadata": {},
   "outputs": [],
   "source": [
    "def z_scorer(model, X, y):\n",
    "    '''Returns standard error and z-score'''\n",
    "    #extract metrics from x\n",
    "    N = len(x_train)\n",
    "    p = X.shape[1]\n",
    "\n",
    "    #Using 3.8b to get the stdv\n",
    "    sigma =  np.sqrt(np.sum((y - model.predict(X))**2)/(N-p-1))\n",
    "\n",
    "    #since predict automatically adds the one column, we add it after here\n",
    "    X = np.concatenate((np.ones((N, 1)),X), axis = 1)\n",
    "    \n",
    "    #implement equation 3.12 to get the z score\n",
    "    sqrt_v = np.sqrt(np.diagonal(np.linalg.inv(X.T @ X)))\n",
    "    standard_error = sigma*sqrt_v\n",
    "    print(model.beta)\n",
    "    z_score = model.beta/standard_error\n",
    "\n",
    "    return standard_error, z_score"
   ]
  },
  {
   "cell_type": "code",
   "execution_count": 1846,
   "metadata": {},
   "outputs": [],
   "source": [
    "def format_lin_summary_table(term, beta, s_e, z_scr, round_decimal = 2):\n",
    "  '''Function to format the data into a summary table'''\n",
    "  summary_mat = []\n",
    "  #generate a list of lists, where the inner lists are rows\n",
    "  for coeff_num in range(len(term)):\n",
    "    row = list([term[coeff_num],\n",
    "              round(beta[coeff_num], round_decimal),\n",
    "              round(s_e[coeff_num], round_decimal),\n",
    "              round(z_scr[coeff_num], round_decimal)])\n",
    "    summary_mat.append(row)\n",
    "\n",
    "  return summary_mat"
   ]
  },
  {
   "cell_type": "code",
   "execution_count": 1847,
   "metadata": {},
   "outputs": [
    {
     "name": "stdout",
     "output_type": "stream",
     "text": [
      "[ 2.3487587   0.69667922  0.33136687 -0.16748868  0.13416529  0.23096276\n",
      " -0.13569651 -0.00646733  0.14117769]\n",
      "Table 2: Linear model fit to the prostate cancer data.\n",
      "+-----------+-------------+------------+---------+\n",
      "|   Term    | Coefficient | Std. Error | Z Score |\n",
      "+-----------+-------------+------------+---------+\n",
      "| Intercept |    2.35     |    0.08    |  28.14  |\n",
      "|  lcavol   |     0.7     |    0.12    |  5.59   |\n",
      "|  lweight  |    0.33     |    0.1     |   3.3   |\n",
      "|    age    |    -0.17    |    0.1     |  -1.67  |\n",
      "|   lbph    |    0.13     |    0.1     |  1.41   |\n",
      "|    svi    |    0.23     |    0.12    |  1.97   |\n",
      "|    lcp    |    -0.14    |    0.16    |  -0.83  |\n",
      "|  gleason  |    -0.01    |    0.15    |  -0.04  |\n",
      "|   pgg45   |    0.14     |    0.16    |  0.87   |\n",
      "+-----------+-------------+------------+---------+\n"
     ]
    }
   ],
   "source": [
    "#coefficient analysis table\n",
    "standard_error, Z_score = z_scorer(linearModel, x_train, y_train)\n",
    "\n",
    "term = list(df_prostate.columns.values[:-1])\n",
    "term.insert(0, 'Intercept')\n",
    "summary_lst = format_lin_summary_table(term, beta, standard_error, Z_score)\n",
    "\n",
    "summary_header = ['Term', 'Coefficient', 'Std. Error', 'Z Score']\n",
    "summary = tabulate(summary_lst, headers = summary_header, tablefmt='pretty')\n",
    "print('Table 2: Linear model fit to the prostate cancer data.')\n",
    "print(summary)"
   ]
  }
 ],
 "metadata": {
  "kernelspec": {
   "display_name": "Python 3.8.10 64-bit",
   "language": "python",
   "name": "python3"
  },
  "language_info": {
   "codemirror_mode": {
    "name": "ipython",
    "version": 3
   },
   "file_extension": ".py",
   "mimetype": "text/x-python",
   "name": "python",
   "nbconvert_exporter": "python",
   "pygments_lexer": "ipython3",
   "version": "3.8.10"
  },
  "orig_nbformat": 4,
  "vscode": {
   "interpreter": {
    "hash": "e7370f93d1d0cde622a1f8e1c04877d8463912d04d973331ad4851f04de6915a"
   }
  }
 },
 "nbformat": 4,
 "nbformat_minor": 2
}
