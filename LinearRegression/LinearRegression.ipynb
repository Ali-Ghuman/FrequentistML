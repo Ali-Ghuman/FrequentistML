{
 "cells": [
  {
   "cell_type": "code",
   "execution_count": 15,
   "metadata": {},
   "outputs": [],
   "source": [
    "from sklearn import linear_model as lm\n",
    "from sklearn.model_selection import train_test_split\n",
    "import sklearn.preprocessing as prep\n",
    "import numpy as np  \n",
    "import pandas as pd "
   ]
  },
  {
   "cell_type": "code",
   "execution_count": 16,
   "metadata": {},
   "outputs": [
    {
     "data": {
      "text/html": [
       "<div>\n",
       "<style scoped>\n",
       "    .dataframe tbody tr th:only-of-type {\n",
       "        vertical-align: middle;\n",
       "    }\n",
       "\n",
       "    .dataframe tbody tr th {\n",
       "        vertical-align: top;\n",
       "    }\n",
       "\n",
       "    .dataframe thead th {\n",
       "        text-align: right;\n",
       "    }\n",
       "</style>\n",
       "<table border=\"1\" class=\"dataframe\">\n",
       "  <thead>\n",
       "    <tr style=\"text-align: right;\">\n",
       "      <th></th>\n",
       "      <th>Unnamed: 0</th>\n",
       "      <th>lcavol</th>\n",
       "      <th>lweight</th>\n",
       "      <th>age</th>\n",
       "      <th>lbph</th>\n",
       "      <th>svi</th>\n",
       "      <th>lcp</th>\n",
       "      <th>gleason</th>\n",
       "      <th>pgg45</th>\n",
       "      <th>lpsa</th>\n",
       "    </tr>\n",
       "  </thead>\n",
       "  <tbody>\n",
       "    <tr>\n",
       "      <th>0</th>\n",
       "      <td>1</td>\n",
       "      <td>-0.579818</td>\n",
       "      <td>2.769459</td>\n",
       "      <td>50</td>\n",
       "      <td>-1.386294</td>\n",
       "      <td>0</td>\n",
       "      <td>-1.386294</td>\n",
       "      <td>6</td>\n",
       "      <td>0</td>\n",
       "      <td>-0.430783</td>\n",
       "    </tr>\n",
       "    <tr>\n",
       "      <th>1</th>\n",
       "      <td>2</td>\n",
       "      <td>-0.994252</td>\n",
       "      <td>3.319626</td>\n",
       "      <td>58</td>\n",
       "      <td>-1.386294</td>\n",
       "      <td>0</td>\n",
       "      <td>-1.386294</td>\n",
       "      <td>6</td>\n",
       "      <td>0</td>\n",
       "      <td>-0.162519</td>\n",
       "    </tr>\n",
       "    <tr>\n",
       "      <th>2</th>\n",
       "      <td>3</td>\n",
       "      <td>-0.510826</td>\n",
       "      <td>2.691243</td>\n",
       "      <td>74</td>\n",
       "      <td>-1.386294</td>\n",
       "      <td>0</td>\n",
       "      <td>-1.386294</td>\n",
       "      <td>7</td>\n",
       "      <td>20</td>\n",
       "      <td>-0.162519</td>\n",
       "    </tr>\n",
       "    <tr>\n",
       "      <th>3</th>\n",
       "      <td>4</td>\n",
       "      <td>-1.203973</td>\n",
       "      <td>3.282789</td>\n",
       "      <td>58</td>\n",
       "      <td>-1.386294</td>\n",
       "      <td>0</td>\n",
       "      <td>-1.386294</td>\n",
       "      <td>6</td>\n",
       "      <td>0</td>\n",
       "      <td>-0.162519</td>\n",
       "    </tr>\n",
       "    <tr>\n",
       "      <th>4</th>\n",
       "      <td>5</td>\n",
       "      <td>0.751416</td>\n",
       "      <td>3.432373</td>\n",
       "      <td>62</td>\n",
       "      <td>-1.386294</td>\n",
       "      <td>0</td>\n",
       "      <td>-1.386294</td>\n",
       "      <td>6</td>\n",
       "      <td>0</td>\n",
       "      <td>0.371564</td>\n",
       "    </tr>\n",
       "  </tbody>\n",
       "</table>\n",
       "</div>"
      ],
      "text/plain": [
       "   Unnamed: 0    lcavol   lweight  age      lbph  svi       lcp  gleason  \\\n",
       "0           1 -0.579818  2.769459   50 -1.386294    0 -1.386294        6   \n",
       "1           2 -0.994252  3.319626   58 -1.386294    0 -1.386294        6   \n",
       "2           3 -0.510826  2.691243   74 -1.386294    0 -1.386294        7   \n",
       "3           4 -1.203973  3.282789   58 -1.386294    0 -1.386294        6   \n",
       "4           5  0.751416  3.432373   62 -1.386294    0 -1.386294        6   \n",
       "\n",
       "   pgg45      lpsa  \n",
       "0      0 -0.430783  \n",
       "1      0 -0.162519  \n",
       "2     20 -0.162519  \n",
       "3      0 -0.162519  \n",
       "4      0  0.371564  "
      ]
     },
     "execution_count": 16,
     "metadata": {},
     "output_type": "execute_result"
    }
   ],
   "source": [
    "df_prostate = pd.read_csv('prostate.data',\n",
    "                 delimiter='\\t')\n",
    "df_prostate = df_prostate.iloc[:,:-1]\n",
    "prostate_data = df_prostate.to_numpy().astype('float')\n",
    "df_prostate.head()"
   ]
  },
  {
   "cell_type": "code",
   "execution_count": 17,
   "metadata": {},
   "outputs": [
    {
     "ename": "NameError",
     "evalue": "name 'PERCENT_TEST' is not defined",
     "output_type": "error",
     "traceback": [
      "\u001b[0;31m---------------------------------------------------------------------------\u001b[0m",
      "\u001b[0;31mNameError\u001b[0m                                 Traceback (most recent call last)",
      "\u001b[1;32m/mnt/c/Users/aligh/Desktop/Cooper/Homework/Senior One/FrequentistML/LinearRegression/LinearRegression.ipynb Cell 3\u001b[0m in \u001b[0;36m<cell line: 12>\u001b[0;34m()\u001b[0m\n\u001b[1;32m      <a href='vscode-notebook-cell://wsl%2Bubuntu-20.04/mnt/c/Users/aligh/Desktop/Cooper/Homework/Senior%20One/FrequentistML/LinearRegression/LinearRegression.ipynb#W4sdnNjb2RlLXJlbW90ZQ%3D%3D?line=5'>6</a>\u001b[0m     X_train, X_val, y_train, y_val \u001b[39m=\u001b[39m train_test_split(X_inter, y_inter, test_percent \u001b[39m=\u001b[39m rel_val_percent, random_state \u001b[39m=\u001b[39m random_state )\n\u001b[1;32m      <a href='vscode-notebook-cell://wsl%2Bubuntu-20.04/mnt/c/Users/aligh/Desktop/Cooper/Homework/Senior%20One/FrequentistML/LinearRegression/LinearRegression.ipynb#W4sdnNjb2RlLXJlbW90ZQ%3D%3D?line=7'>8</a>\u001b[0m     \u001b[39mreturn\u001b[39;00m X_train, X_val, X_test, y_train, y_val, y_test\n\u001b[0;32m---> <a href='vscode-notebook-cell://wsl%2Bubuntu-20.04/mnt/c/Users/aligh/Desktop/Cooper/Homework/Senior%20One/FrequentistML/LinearRegression/LinearRegression.ipynb#W4sdnNjb2RlLXJlbW90ZQ%3D%3D?line=11'>12</a>\u001b[0m split_data \u001b[39m=\u001b[39m train_val_test_split(prostate_data[:,:\u001b[39m-\u001b[39m\u001b[39m1\u001b[39m], prostate_data[:,\u001b[39m-\u001b[39m\u001b[39m1\u001b[39m], PERCENT_TEST, PERCENT_VAL, random_state)\n\u001b[1;32m     <a href='vscode-notebook-cell://wsl%2Bubuntu-20.04/mnt/c/Users/aligh/Desktop/Cooper/Homework/Senior%20One/FrequentistML/LinearRegression/LinearRegression.ipynb#W4sdnNjb2RlLXJlbW90ZQ%3D%3D?line=12'>13</a>\u001b[0m \u001b[39m#unpacking\u001b[39;00m\n\u001b[1;32m     <a href='vscode-notebook-cell://wsl%2Bubuntu-20.04/mnt/c/Users/aligh/Desktop/Cooper/Homework/Senior%20One/FrequentistML/LinearRegression/LinearRegression.ipynb#W4sdnNjb2RlLXJlbW90ZQ%3D%3D?line=13'>14</a>\u001b[0m X_train, X_val, X_test, y_train, y_val, y_test \u001b[39m=\u001b[39m split_data\n",
      "\u001b[0;31mNameError\u001b[0m: name 'PERCENT_TEST' is not defined"
     ]
    }
   ],
   "source": [
    "def train_val_test_split(X,y, test_percent, val_percent, random_state = None):\n",
    "    rel_val_percent = np.round((val_percent)/(1-test_percent), 2)\n",
    "\n",
    "    #splitting the data\n",
    "    X_inter, X_test, y_inter, y_test = train_test_split(X, y, test_percent = test_percent, random_state = random_state )\n",
    "    X_train, X_val, y_train, y_val = train_test_split(X_inter, y_inter, test_percent = rel_val_percent, random_state = random_state )\n",
    "\n",
    "    return X_train, X_val, X_test, y_train, y_val, y_test\n",
    "\n",
    "\n",
    "\n",
    "split_data = train_val_test_split(prostate_data[:,:-1], prostate_data[:,-1], PERCENT_TEST, PERCENT_VAL, random_state)\n",
    "#unpacking\n",
    "X_train, X_val, X_test, y_train, y_val, y_test = split_data\n",
    "\n",
    "print('Input length:', len(prostate_data))\n",
    "print('Number of training samples:', len(X_train))\n",
    "print('Number of validation samples:', len(X_val))\n",
    "print('Number of testing samples:', len(X_test))"
   ]
  }
 ],
 "metadata": {
  "kernelspec": {
   "display_name": "Python 3.8.10 64-bit",
   "language": "python",
   "name": "python3"
  },
  "language_info": {
   "codemirror_mode": {
    "name": "ipython",
    "version": 3
   },
   "file_extension": ".py",
   "mimetype": "text/x-python",
   "name": "python",
   "nbconvert_exporter": "python",
   "pygments_lexer": "ipython3",
   "version": "3.8.10"
  },
  "orig_nbformat": 4,
  "vscode": {
   "interpreter": {
    "hash": "e7370f93d1d0cde622a1f8e1c04877d8463912d04d973331ad4851f04de6915a"
   }
  }
 },
 "nbformat": 4,
 "nbformat_minor": 2
}
