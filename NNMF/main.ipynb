{
 "cells": [
  {
   "cell_type": "code",
   "execution_count": 2,
   "metadata": {},
   "outputs": [],
   "source": [
    "import pandas as pd\n",
    "import numpy as np\n",
    "import matplotlib.pyplot as plt\n",
    "from surprise import NMF\n",
    "from surprise import Dataset\n",
    "from surprise.model_selection import GridSearchCV"
   ]
  },
  {
   "cell_type": "code",
   "execution_count": 8,
   "metadata": {},
   "outputs": [
    {
     "name": "stdout",
     "output_type": "stream",
     "text": [
      "0.9767450058764539 {'n_epochs': 20, 'reg_bu': 0.1, 'reg_bi': 0.01}\n"
     ]
    }
   ],
   "source": [
    "gs = GridSearchCV(NMF, {\"n_epochs\": [10, 20], \"reg_bu\": [0.01, 0.1, 0.2], \"reg_bi\": [0.01, 0.1, 0.2]}, measures=[\"rmse\"])\n",
    "gs.fit(Dataset.load_builtin('ml-100k'))\n",
    "print(gs.best_score[\"rmse\"], gs.best_params[\"rmse\"])"
   ]
  }
 ],
 "metadata": {
  "kernelspec": {
   "display_name": "Python 3.8.10 64-bit",
   "language": "python",
   "name": "python3"
  },
  "language_info": {
   "codemirror_mode": {
    "name": "ipython",
    "version": 3
   },
   "file_extension": ".py",
   "mimetype": "text/x-python",
   "name": "python",
   "nbconvert_exporter": "python",
   "pygments_lexer": "ipython3",
   "version": "3.8.10"
  },
  "orig_nbformat": 4,
  "vscode": {
   "interpreter": {
    "hash": "e7370f93d1d0cde622a1f8e1c04877d8463912d04d973331ad4851f04de6915a"
   }
  }
 },
 "nbformat": 4,
 "nbformat_minor": 2
}
