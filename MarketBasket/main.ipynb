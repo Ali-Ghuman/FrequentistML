{
 "cells": [
  {
   "cell_type": "code",
   "execution_count": 34,
   "metadata": {},
   "outputs": [],
   "source": [
    "import pandas as pd\n",
    "import numpy as np"
   ]
  },
  {
   "cell_type": "code",
   "execution_count": 35,
   "metadata": {},
   "outputs": [],
   "source": [
    "#dataset found at https://www.kaggle.com/code/shrikantuppin/association-rules-apriori-grocery-dataset/data\n",
    "#Inspired from machine learning in action 3.x\n",
    "dataframe = pd.read_csv('groceries.csv', sep=',', header='infer')\n",
    "data = dataframe.to_numpy()\n",
    "data = np.delete(data, 0, 1)\n",
    "data = np.nan_to_num(data)"
   ]
  },
  {
   "cell_type": "code",
   "execution_count": 36,
   "metadata": {},
   "outputs": [],
   "source": [
    "def createC1(dataSet):\n",
    "    C1 = []\n",
    "    for transaction in dataSet:\n",
    "        for item in transaction:\n",
    "            if not [item] in C1 and str(item) != \"nan\":\n",
    "                C1.append([str(item)])\n",
    "    C1.sort()\n",
    "    return list(map(frozenset, C1))\n",
    "def scanD(D, Ck, minSupport):\n",
    "    ssCnt = {}\n",
    "    for tid in D:\n",
    "        for can in Ck:\n",
    "            if can.issubset(tid):\n",
    "                if can not in ssCnt: ssCnt[can]=1\n",
    "                else: ssCnt[can] += 1\n",
    "    numItems = float(len(D))\n",
    "    retList = []\n",
    "    supportData = {}\n",
    "    for key in ssCnt:\n",
    "        support = ssCnt[key]/numItems\n",
    "        if support >= minSupport:\n",
    "            retList.insert(0,key)\n",
    "        supportData[key] = support\n",
    "    return retList, supportData\n",
    "def aprioriGen(Lk, k): \n",
    "    retList = []\n",
    "    lenLk = len(Lk)\n",
    "    for i in range(lenLk):\n",
    "        for j in range(i+1, lenLk): \n",
    "            L1 = list(Lk[i])[:k-2]; L2 = list(Lk[j])[:k-2]\n",
    "            L1.sort(); L2.sort()\n",
    "            if L1==L2: \n",
    "                retList.append(Lk[i] | Lk[j]) \n",
    "    return retList\n",
    "\n",
    "def apriori(dataSet, minSupport = 0.5):\n",
    "    C1 = createC1(dataSet)\n",
    "    D = list(map(set, dataSet))\n",
    "    L1, supportData = scanD(D, C1, minSupport)\n",
    "    L = [L1]\n",
    "    k = 2\n",
    "    while (len(L[k-2]) > 0):\n",
    "        Ck = aprioriGen(L[k-2], k)\n",
    "        Lk, supK = scanD(D, Ck, minSupport)\n",
    "        supportData.update(supK)\n",
    "        L.append(Lk)\n",
    "        k += 1\n",
    "    return L, supportData\n",
    "     \n",
    "C1 = createC1(data)"
   ]
  },
  {
   "cell_type": "code",
   "execution_count": 37,
   "metadata": {},
   "outputs": [
    {
     "name": "stdout",
     "output_type": "stream",
     "text": [
      "Common items: [frozenset({'soda'}), frozenset({'other vegetables'}), frozenset({'rolls/buns'}), frozenset({'whole milk'}), frozenset({'yogurt'})]\n"
     ]
    }
   ],
   "source": [
    "D = list(map(set,data)) \n",
    "L1,suppData0 = scanD(D, C1, 0.10) \n",
    "print(\"Common items:\",L1)"
   ]
  },
  {
   "cell_type": "code",
   "execution_count": 38,
   "metadata": {},
   "outputs": [],
   "source": [
    "L, suppData = apriori(data, minSupport = 0.02)"
   ]
  },
  {
   "cell_type": "code",
   "execution_count": 39,
   "metadata": {},
   "outputs": [],
   "source": [
    "def calcConf(freqSet, H, supportData, brl, minConf):\n",
    "    prunedH = []\n",
    "    for conseq in H:\n",
    "        conf = supportData[freqSet]/supportData[freqSet-conseq] \n",
    "        if conf >= minConf: \n",
    "            print(freqSet-conseq,'-->',conseq,'conf:',conf)\n",
    "            brl.append((freqSet-conseq, conseq, conf))\n",
    "            prunedH.append(conseq)\n",
    "    return prunedH\n",
    "def rulesFromConseq(freqSet, H, supportData, brl, minConf):\n",
    "    m = len(H[0])\n",
    "    if (len(freqSet) > (m + 1)):\n",
    "        Hmp1 = aprioriGen(H, m+1)\n",
    "        Hmp1 = calcConf(freqSet, Hmp1, supportData, brl, minConf)\n",
    "        if (len(Hmp1) > 1):   \n",
    "            rulesFromConseq(freqSet, Hmp1, supportData, brl, minConf)\n",
    "def generateRules(L, supportData, minConf):  \n",
    "    bigRuleList = []\n",
    "    for i in range(1, len(L)):\n",
    "        for freqSet in L[i]:\n",
    "            H1 = [frozenset([item]) for item in freqSet]\n",
    "            if (i > 1):\n",
    "                rulesFromConseq(freqSet, H1, supportData, bigRuleList, minConf)\n",
    "            else:\n",
    "                calcConf(freqSet, H1, supportData, bigRuleList, minConf)\n",
    "    return bigRuleList        "
   ]
  },
  {
   "cell_type": "code",
   "execution_count": 40,
   "metadata": {},
   "outputs": [
    {
     "name": "stdout",
     "output_type": "stream",
     "text": [
      "frozenset({'pip fruit'}) --> frozenset({'other vegetables'}) conf: 0.430406852248394\n",
      "frozenset({'pip fruit'}) --> frozenset({'whole milk'}) conf: 0.443254817987152\n",
      "frozenset({'tropical fruit'}) --> frozenset({'other vegetables'}) conf: 0.4363636363636364\n",
      "frozenset({'root vegetables'}) --> frozenset({'whole milk'}) conf: 0.47831632653061223\n",
      "frozenset({'domestic eggs'}) --> frozenset({'whole milk'}) conf: 0.4597902097902098\n",
      "frozenset({'whipped/sour cream'}) --> frozenset({'whole milk'}) conf: 0.43789808917197454\n",
      "frozenset({'other vegetables'}) --> frozenset({'whole milk'}) conf: 0.4137214137214137\n",
      "frozenset({'root vegetables'}) --> frozenset({'other vegetables'}) conf: 0.46428571428571425\n",
      "frozenset({'yogurt'}) --> frozenset({'whole milk'}) conf: 0.4036617262423714\n",
      "frozenset({'butter'}) --> frozenset({'whole milk'}) conf: 0.488272921108742\n",
      "frozenset({'curd'}) --> frozenset({'whole milk'}) conf: 0.49191685912240185\n",
      "frozenset({'tropical fruit'}) --> frozenset({'whole milk'}) conf: 0.4472727272727273\n"
     ]
    }
   ],
   "source": [
    "rules = generateRules(L, suppData, 0.4)"
   ]
  },
  {
   "cell_type": "code",
   "execution_count": 41,
   "metadata": {},
   "outputs": [
    {
     "name": "stdout",
     "output_type": "stream",
     "text": [
      "frozenset({'whipped/sour cream'}) --> frozenset({'yogurt'}) conf: 0.31528662420382164\n",
      "frozenset({'yogurt'}) --> frozenset({'other vegetables'}) conf: 0.31473408892763727\n",
      "frozenset({'pip fruit'}) --> frozenset({'other vegetables'}) conf: 0.430406852248394\n",
      "frozenset({'fruit/vegetable juice'}) --> frozenset({'whole milk'}) conf: 0.33333333333333326\n",
      "frozenset({'margarine'}) --> frozenset({'whole milk'}) conf: 0.35818181818181816\n",
      "frozenset({'rolls/buns'}) --> frozenset({'whole milk'}) conf: 0.3054989816700611\n",
      "frozenset({'pip fruit'}) --> frozenset({'whole milk'}) conf: 0.443254817987152\n",
      "frozenset({'tropical fruit'}) --> frozenset({'other vegetables'}) conf: 0.4363636363636364\n",
      "frozenset({'pastry'}) --> frozenset({'whole milk'}) conf: 0.35262449528936746\n",
      "frozenset({'root vegetables'}) --> frozenset({'whole milk'}) conf: 0.47831632653061223\n",
      "frozenset({'brown bread'}) --> frozenset({'whole milk'}) conf: 0.3407917383820998\n",
      "frozenset({'domestic eggs'}) --> frozenset({'whole milk'}) conf: 0.4597902097902098\n",
      "frozenset({'whipped/sour cream'}) --> frozenset({'whole milk'}) conf: 0.43789808917197454\n",
      "frozenset({'whipped/sour cream'}) --> frozenset({'other vegetables'}) conf: 0.39012738853503187\n",
      "frozenset({'whole milk'}) --> frozenset({'other vegetables'}) conf: 0.33240534521158127\n",
      "frozenset({'other vegetables'}) --> frozenset({'whole milk'}) conf: 0.4137214137214137\n",
      "frozenset({'root vegetables'}) --> frozenset({'other vegetables'}) conf: 0.46428571428571425\n",
      "frozenset({'yogurt'}) --> frozenset({'whole milk'}) conf: 0.4036617262423714\n",
      "frozenset({'butter'}) --> frozenset({'whole milk'}) conf: 0.488272921108742\n",
      "frozenset({'curd'}) --> frozenset({'whole milk'}) conf: 0.49191685912240185\n",
      "frozenset({'tropical fruit'}) --> frozenset({'whole milk'}) conf: 0.4472727272727273\n"
     ]
    }
   ],
   "source": [
    "rules = generateRules(L, suppData, 0.3)"
   ]
  }
 ],
 "metadata": {
  "kernelspec": {
   "display_name": "Python 3.8.10 64-bit",
   "language": "python",
   "name": "python3"
  },
  "language_info": {
   "codemirror_mode": {
    "name": "ipython",
    "version": 3
   },
   "file_extension": ".py",
   "mimetype": "text/x-python",
   "name": "python",
   "nbconvert_exporter": "python",
   "pygments_lexer": "ipython3",
   "version": "3.8.10 (default, Mar 15 2022, 12:22:08) \n[GCC 9.4.0]"
  },
  "orig_nbformat": 4,
  "vscode": {
   "interpreter": {
    "hash": "e7370f93d1d0cde622a1f8e1c04877d8463912d04d973331ad4851f04de6915a"
   }
  }
 },
 "nbformat": 4,
 "nbformat_minor": 2
}
