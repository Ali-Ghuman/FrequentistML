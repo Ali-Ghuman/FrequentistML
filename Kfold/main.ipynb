{
 "cells": [
  {
   "cell_type": "code",
   "execution_count": 3,
   "metadata": {},
   "outputs": [],
   "source": [
    "import pandas as pd\n",
    "import numpy as np\n",
    "from sklearn.neighbors import KNeighborsClassifier\n",
    "from sklearn.datasets import make_classification"
   ]
  },
  {
   "cell_type": "code",
   "execution_count": 145,
   "metadata": {},
   "outputs": [],
   "source": [
    "RANGES = [[0, 1], [1, 2], [2, 3], [3, 4], [4, 5], [5, 6], [6, 7], [7, 8], [8, 9], [9, 10], [10, 11], [11, 12], [12, 13], [13, 14], [14, 15], [15, 16], [16, 17], [17, 18], [18, 19], [19, 20], [20, 21], [21, 22], [22, 23], [23, 24], [24, 25], [25, 26], [26, 27], [27, 28], [28, 29], [29, 30], [30, 31], [31, 32], [32, 33], [33, 34], [34, 35], [35, 36], [36, 37], [37, 38], [38, 39], [39, 40], [40, 41], [41, 42], [42, 43], [43, 44], [44, 45], [45, 46], [46, 47], [47, 48], [48, 49], [49, 50]]\n",
    "# print([ [i, i + 1] for i in range(50)])\n",
    "\n",
    "def percent_accuracy(ds, model):\n",
    "    X = ds[0]\n",
    "    y = ds[1]\n",
    "    y_hat = model.predict(X.reshape(1, -1))\n",
    "    return y == y_hat\n",
    "        \n",
    "def correlation(ds):\n",
    "    X = ds[0]\n",
    "    y = ds[1]\n",
    "    df1 = pd.DataFrame(X)\n",
    "    df2 = pd.DataFrame(np.array([y for i in range(len(X[0]))]).T)\n",
    "    corr = df1.corrwith(df2)\n",
    "    return corr\n",
    "\n",
    "def best_predictors(ds, x):\n",
    "    corr = pd.Series(correlation(ds))\n",
    "    corr = corr.abs()\n",
    "    best = corr.nlargest(x, 'all')\n",
    "    best = best.index.values\n",
    "    return best\n",
    "\n",
    "def select_features(ds, best):\n",
    "    X = np.transpose(ds[0])\n",
    "    X_new = []\n",
    "    for i in best:\n",
    "        X_new.append(X[i])\n",
    "    X = np.transpose(X_new)\n",
    "    ds=[X, ds[1]]\n",
    "    return ds\n",
    "\n",
    "def split_data(ds, r):\n",
    "    X1 = np.delete(ds[0], r[0], axis = 0)\n",
    "    y1 = np.delete(ds[1], r[0])\n",
    "    ds1 = [X1, y1]\n",
    "    \n",
    "    X2 = ds[0][r[0]]\n",
    "    y2 = [ds[1][r[0]]]\n",
    "    ds2 = [X2, y2]\n",
    "    return [ds1, ds2]\n",
    "\n",
    "def test_model(ds, k, n, x=0):\n",
    "    accuracy = 0\n",
    "    for r in RANGES:\n",
    "        data = split_data(ds, r)\n",
    "        #right way \n",
    "        if (x     !=0     ):\n",
    "            best = best_predictors(data[0], x)\n",
    "            ds1 = select_features(data[0], best)\n",
    "            ds2 = select_features(data[1], best)\n",
    "        #wrong way \n",
    "        else:\n",
    "            ds1 = data[0]\n",
    "            ds2 = data[1]\n",
    "        model = KNeighborsClassifier(n_neighbors=n).fit(ds1[0], ds1[1])\n",
    "        y_hat = model.predict(ds2[0].reshape(1, -1))\n",
    "        accuracy += (ds2[1] == y_hat)[0] * 100 \n",
    "    return (accuracy/k)"
   ]
  },
  {
   "cell_type": "code",
   "execution_count": 146,
   "metadata": {},
   "outputs": [
    {
     "name": "stdout",
     "output_type": "stream",
     "text": [
      "The wrong way:\n",
      "Accuracy: 100.0%\n",
      "\n",
      "The right way:\n",
      "Accuracy: 64.0%\n",
      "\n"
     ]
    }
   ],
   "source": [
    "k = 50\n",
    "n = 1\n",
    "x = 100 \n",
    "ds = make_classification(n_samples=50, n_features=5000)\n",
    "\n",
    "print(\"The wrong way:\")\n",
    "best = best_predictors(ds, x)\n",
    "ds_alt = select_features(ds, best)\n",
    "accuracy = test_model(ds_alt, k, n, 0)\n",
    "print(\"Accuracy: \"+str(accuracy)+\"%\")\n",
    "print()\n",
    "\n",
    "print(\"The right way:\")\n",
    "accuracy = test_model(ds, k, n, x)\n",
    "print(\"Accuracy: \" + str(accuracy) + \"%\\n\")"
   ]
  }
 ],
 "metadata": {
  "kernelspec": {
   "display_name": "Python 3.9.13 ('tf')",
   "language": "python",
   "name": "python3"
  },
  "language_info": {
   "codemirror_mode": {
    "name": "ipython",
    "version": 3
   },
   "file_extension": ".py",
   "mimetype": "text/x-python",
   "name": "python",
   "nbconvert_exporter": "python",
   "pygments_lexer": "ipython3",
   "version": "3.9.13"
  },
  "orig_nbformat": 4,
  "vscode": {
   "interpreter": {
    "hash": "f096bfee929a9261263554866cee2be7aa1eb78b57847c420cd054260cf47f15"
   }
  }
 },
 "nbformat": 4,
 "nbformat_minor": 2
}
